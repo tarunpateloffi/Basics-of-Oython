{
  "cells": [
    {
      "cell_type": "markdown",
      "metadata": {
        "id": "vwnNlNIEwoZ8"
      },
      "source": [
        "To learn more about accelerating pandas on Colab, see the [10 minute guide](https://colab.research.google.com/github/rapidsai-community/showcase/blob/main/getting_started_tutorials/cudf_pandas_colab_demo.ipynb) or\n",
        " [US stock market data analysis demo](https://colab.research.google.com/github/rapidsai-community/showcase/blob/main/getting_started_tutorials/cudf_pandas_stocks_demo.ipynb)."
      ]
    },
    {
      "cell_type": "markdown",
      "source": [
        "1. Explain the key features of Python that make it a popular choice for programming.\n",
        "\n",
        "Ans: Key Features of Python:\n",
        "\n",
        "Below are mentioned some of the most crucial and notable features of Python:\n",
        "- Easy to use and learn: Python has a simple syntax that is easy to learn. It makes it an ideal programming language for beginners. The language structure is straightforward. And the code is easy to read and understand.\n",
        "- Multi-Paradigm: Python supports multiple programming paradigms. It allows developers to choose the approach that best fits their specific project. Object-oriented programming is supported in Python, which enables developers to create reusable code\n",
        "- Large Standard Library: Python comes with a comprehensive standard library. It includes modules for performing a wide range of tasks. This library contains modules for web development, database interaction, file manipulation, data analysis, and scientific computing.\n",
        "- High-Level Language: Python is a high-level language, meaning the code is closer to human language than machine language. This makes it easier to read and understand. The developers can write less complex code.\n",
        "- Frontend and backend development: Python is a popular language for frontend and backend web development due to its simplicity and versatility. For frontend development, Python offers web frameworks like Flask and Django."
      ],
      "metadata": {
        "id": "rO763oqVjuwA"
      }
    },
    {
      "cell_type": "code",
      "source": [
        "#2. Describe the role of predefined keywords in Python and provide examples of how they are used in a program.\n",
        "\n",
        "'''Ans: Predefined keywords in Python are reserved words that have special meaning to the interpreter. These words form the syntax and structure of Python programs and cannot be used as identifiers (like variable names, function names, etc.).\n",
        "\n",
        "They are used to define the structure, logic, control flow, and various operations in a program. '''\n",
        "\n",
        "#Example:\n",
        "#1. if, else, elif – Conditional statements.\n",
        "\n",
        "age = 18\n",
        "if age >= 18:\n",
        "    print(\"You are an adult\")\n",
        "else:\n",
        "    print(\"You are a minor\")\n",
        "\n",
        "# 2. for, in, range – Looping through a sequence\n",
        "\n",
        "for i in range(5):\n",
        "    print(i)\n",
        "#3. def, return – Defining functions\n",
        "def greet(name):\n",
        "    return \"Hello, \" + name\n",
        "\n",
        "print(greet(\"Tarun\"))\n",
        "\n",
        "#True, False, None – Boolean and null values\n",
        "is_logged_in = True\n",
        "user_data = None\n"
      ],
      "metadata": {
        "colab": {
          "base_uri": "https://localhost:8080/"
        },
        "id": "WmNlCurFkli1",
        "outputId": "2855a2ae-71bd-4342-da2f-2f3d5b24bdc8"
      },
      "execution_count": 2,
      "outputs": [
        {
          "output_type": "stream",
          "name": "stdout",
          "text": [
            "You are an adult\n",
            "0\n",
            "1\n",
            "2\n",
            "3\n",
            "4\n",
            "Hello, Tarun\n"
          ]
        }
      ]
    },
    {
      "cell_type": "code",
      "source": [
        "#2. Compare and contrast mutable and immutable objects in Python with examples.\n",
        "\n",
        "#Ans:\n",
        "# Mutable Objects\n",
        "'''Mutable objects are those whose value can be changed after they are created.\n",
        "\n",
        "-- Can be modified in place.\n",
        "-- Do not create a new object in memory on modification.'''\n",
        "\n",
        "# Examples: list, dict, set, bytearray:\n",
        "\n",
        "my_list = [1, 2, 3]\n",
        "print(\"Before:\", my_list)\n",
        "\n",
        "my_list[0] = 99   # Changing the first element\n",
        "print(\"After:\", my_list)\n",
        "\n",
        "# Immutable Objects\n",
        "'''Immutable objects are those whose value cannot be changed after they are created.\n",
        "-- Any change creates a new object in memory.\n",
        "-- Original value remains unchanged.'''\n",
        "\n",
        "# Examples: int, float, str, tuple, bool, frozenset:\n",
        "\n",
        "my_str = \"Hello\"\n",
        "print(\"Original:\", my_str)\n",
        "\n",
        "# Attempt to change the first letter\n",
        "my_str = \"Y\" + my_str[1:]  # This creates a new string\n",
        "print(\"Modified:\", my_str)"
      ],
      "metadata": {
        "colab": {
          "base_uri": "https://localhost:8080/"
        },
        "id": "O8wFZ4mxnWlV",
        "outputId": "fdccad3c-9a42-4e0e-a0ed-5809c865b8a0"
      },
      "execution_count": 4,
      "outputs": [
        {
          "output_type": "stream",
          "name": "stdout",
          "text": [
            "Before: [1, 2, 3]\n",
            "After: [99, 2, 3]\n",
            "Original: Hello\n",
            "Modified: Yello\n"
          ]
        }
      ]
    },
    {
      "cell_type": "code",
      "source": [
        "# 4. Discuss the different types of operators in Python and provide examples of how they are used.\n",
        "\n",
        "#Ans:\n",
        "\n",
        "'''Types of Python Operators:\n",
        "1.\tArithmetic Operators\n",
        "2.\tComparison (Relational) Operators\n",
        "3.\tAssignment Operators\n",
        "4.\tLogical Operators\n",
        "5.\tBitwise Operators\n",
        "6.\tMembership Operators\n",
        "7.\tIdentity Operators\n",
        "'''\n",
        "#1. Arithmetic Operators:\n",
        "a = 21\n",
        "b = 10\n",
        "# Addition\n",
        "print (\"a + b : \", a + b)\n",
        "# Subtraction\n",
        "print (\"a - b : \", a - b)\n",
        "# Multiplication\n",
        "print (\"a * b : \", a * b)\n",
        "# Division\n",
        "print (\"a / b : \", a / b)\n",
        "# Modulus\n",
        "print (\"a % b : \", a % b)\n",
        "# Exponent\n",
        "print (\"a ** b : \", a ** b)\n",
        "# Floor Division\n",
        "print (\"a // b : \", a // b)\n",
        "\n",
        "#2. Comparison (Relational) Operators:\n",
        "\n",
        "a = 4\n",
        "b = 5\n",
        "# Equal\n",
        "print (\"a == b : \", a == b)\n",
        "# Not Equal\n",
        "print (\"a != b : \", a != b)\n",
        "# Greater Than\n",
        "print (\"a > b : \", a > b)\n",
        "# Less Than\n",
        "print (\"a < b : \", a < b)\n",
        "# Greater Than or Equal to\n",
        "print (\"a >= b : \", a >= b)\n",
        "# Less Than or Equal to\n",
        "print (\"a <= b : \", a <= b)\n",
        "\n",
        "# 3. Assignment Operators:\n",
        "\n",
        "# Assignment Operator\n",
        "a = 10\n",
        "# Addition Assignment\n",
        "a += 5\n",
        "print (\"a += 5 : \", a)\n",
        "# Subtraction Assignment\n",
        "a -= 5\n",
        "print (\"a -= 5 : \", a)\n",
        "# Multiplication Assignment\n",
        "a *= 5\n",
        "print (\"a *= 5 : \", a)\n",
        "# Division Assignment\n",
        "a /= 5\n",
        "print (\"a /= 5 : \",a)\n",
        "# Remainder Assignment\n",
        "a %= 3\n",
        "print (\"a %= 3 : \", a)\n",
        "# Exponent Assignment\n",
        "a **= 2\n",
        "print (\"a **= 2 : \", a)\n",
        "# Floor Division Assignment\n",
        "a //= 3\n",
        "print (\"a //= 3 : \", a)\n",
        "\n",
        "#4. Python Bitwise Operators:\n",
        "\n",
        "a = 60 # 60 = 0011 1100\n",
        "b = 13 # 13 = 0000 1101\n",
        "# Binary AND\n",
        "c = a & b # 12 = 0000 1100\n",
        "print (\"a & b : \", c)\n",
        "# Binary OR\n",
        "c = a | b # 61 = 0011 1101\n",
        "print (\"a | b : \", c)\n",
        "# Binary XOR\n",
        "c = a ^ b # 49 = 0011 0001\n",
        "print (\"a ^ b : \", c)\n",
        "# Binary Ones Complement\n",
        "c = ~a; # -61 = 1100 0011\n",
        "print (\"~a : \", c)\n",
        "# Binary Left Shift\n",
        "c = a << 2; # 240 = 1111 0000\n",
        "print (\"a << 2 : \", c)\n",
        "# Binary Right Shift\n",
        "c = a >> 2; # 15 = 0000 1111\n",
        "print (\"a >> 2 : \", c)\n",
        "\n",
        "#5. Python Logical Operators:\n",
        "x = 5\n",
        "y = 10\n",
        "if x > 3 and y < 15:\n",
        "  print(\"Both x and y are within the specified range\")\n",
        "\n",
        "#6. Python Membership Operators:\n",
        "\n",
        "fruits = [\"apple\", \"banana\", \"cherry\"]\n",
        "if \"banana\" in fruits:\n",
        "    print(\"Yes, banana is a fruit!\")\n",
        "else:\n",
        "    print(\"No, banana is not a fruit!\")\n",
        "\n",
        "#7. Python Identity Operators:\n",
        "\n",
        "x = 10\n",
        "y = 5\n",
        "if x is y:\n",
        "    print(\"x and y are the same object\")\n",
        "else:\n",
        "    print(\"x and y are not the same object\")\n",
        "\n",
        "\n",
        "\n",
        "\n"
      ],
      "metadata": {
        "colab": {
          "base_uri": "https://localhost:8080/"
        },
        "id": "ldq1bdmfrD6B",
        "outputId": "35b6e94b-5e0c-4e6b-b219-29214abfbfee"
      },
      "execution_count": 5,
      "outputs": [
        {
          "output_type": "stream",
          "name": "stdout",
          "text": [
            "a + b :  31\n",
            "a - b :  11\n",
            "a * b :  210\n",
            "a / b :  2.1\n",
            "a % b :  1\n",
            "a ** b :  16679880978201\n",
            "a // b :  2\n",
            "a == b :  False\n",
            "a != b :  True\n",
            "a > b :  False\n",
            "a < b :  True\n",
            "a >= b :  False\n",
            "a <= b :  True\n",
            "a += 5 :  15\n",
            "a -= 5 :  10\n",
            "a *= 5 :  50\n",
            "a /= 5 :  10.0\n",
            "a %= 3 :  1.0\n",
            "a **= 2 :  1.0\n",
            "a //= 3 :  0.0\n",
            "a & b :  12\n",
            "a | b :  61\n",
            "a ^ b :  49\n",
            "~a :  -61\n",
            "a << 2 :  240\n",
            "a >> 2 :  15\n",
            "Both x and y are within the specified range\n",
            "Yes, banana is a fruit!\n",
            "x and y are not the same object\n"
          ]
        }
      ]
    },
    {
      "cell_type": "code",
      "source": [
        "#5. Explain the concept of type casting in Python with examples.\n",
        "\n",
        "#Ans:\n",
        "\n",
        "'''Type casting in Python is the process of converting one data type into another.\n",
        "This is often used when we need to change the type of a variable to perform a certain operation.'''\n",
        "#Exaple:\n",
        "\n",
        "a = 5       # int\n",
        "b = 2.5     # float\n",
        "\n",
        "result = a + b\n",
        "print(result)\n",
        "print(type(result))\n",
        "\n",
        "\n"
      ],
      "metadata": {
        "colab": {
          "base_uri": "https://localhost:8080/"
        },
        "id": "HinH1wYgsteB",
        "outputId": "d3834809-abff-4ec7-876a-704102f92f1a"
      },
      "execution_count": 6,
      "outputs": [
        {
          "output_type": "stream",
          "name": "stdout",
          "text": [
            "7.5\n",
            "<class 'float'>\n"
          ]
        }
      ]
    },
    {
      "cell_type": "code",
      "source": [
        "#6. How do conditional statements work in Python? Illustrate with examples\n",
        "\n",
        "#Ans:\n",
        "\n",
        "'''Conditional statements are used to make decisions in a program based on conditions.\n",
        "They control the flow of execution by executing different blocks of code depending on whether a condition is True or False.'''\n",
        "\n",
        "#Example 1:\n",
        "\n",
        "age = 18\n",
        "if age >= 18:\n",
        "    print(\"You are eligible to vote.\")\n",
        "\n",
        "#Example 2:\n",
        "num = 5\n",
        "if num % 2 == 0:\n",
        "    print(\"Even number\")\n",
        "else:\n",
        "    print(\"Odd number\")\n",
        "\n",
        "#Example 3:\n",
        "marks = 85\n",
        "\n",
        "if marks >= 90:\n",
        "    print(\"Grade: A\")\n",
        "elif marks >= 75:\n",
        "    print(\"Grade: B\")\n",
        "elif marks >= 60:\n",
        "    print(\"Grade: C\")\n",
        "else:\n",
        "    print(\"Grade: D\")"
      ],
      "metadata": {
        "colab": {
          "base_uri": "https://localhost:8080/"
        },
        "id": "mb6ftCs-thc4",
        "outputId": "5ae2872c-29ac-4a3e-a323-c4d5c989b37c"
      },
      "execution_count": 8,
      "outputs": [
        {
          "output_type": "stream",
          "name": "stdout",
          "text": [
            "You are eligible to vote.\n",
            "Odd number\n",
            "Grade: B\n"
          ]
        }
      ]
    },
    {
      "cell_type": "code",
      "source": [
        "#7. Describe the different types of loops in Python and their use cases with examples.\n",
        "\n",
        "#Ans:\n",
        "\n",
        "#Loops in Python are used to execute a block of code repeatedly as long as a condition is true.\n",
        "#Python provides two main types of loops:\n",
        "\n",
        "'''\n",
        "1. For Loop:\n",
        "\n",
        "Used for iterating over a sequence like a list, tuple, string, or range.\n",
        "'''\n",
        "\n",
        "#Example:\n",
        "\n",
        "# Looping through a list\n",
        "fruits = [\"apple\", \"banana\", \"cherry\"]\n",
        "for fruit in fruits:\n",
        "    print(fruit)\n",
        "\n",
        "'''\n",
        "2. while Loop\n",
        "\n",
        "Runs as long as the condition is true.\n",
        "'''\n",
        "count = 1\n",
        "while count <= 5:\n",
        "    print(count)\n",
        "    count += 1\n",
        "\n"
      ],
      "metadata": {
        "colab": {
          "base_uri": "https://localhost:8080/"
        },
        "id": "9qI0x6Ert0fe",
        "outputId": "38937c24-b778-44ee-e007-7b7ace64cad8"
      },
      "execution_count": 9,
      "outputs": [
        {
          "output_type": "stream",
          "name": "stdout",
          "text": [
            "apple\n",
            "banana\n",
            "cherry\n",
            "1\n",
            "2\n",
            "3\n",
            "4\n",
            "5\n"
          ]
        }
      ]
    },
    {
      "cell_type": "code",
      "source": [],
      "metadata": {
        "id": "1KTo9ygmvkic"
      },
      "execution_count": null,
      "outputs": []
    }
  ],
  "metadata": {
    "colab": {
      "provenance": []
    },
    "kernelspec": {
      "display_name": "Python 3",
      "name": "python3"
    }
  },
  "nbformat": 4,
  "nbformat_minor": 0
}